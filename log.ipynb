{
    "cells": [
        {
            "cell_type": "code",
            "execution_count": 1,
            "metadata": {},
            "outputs": [
                {
                    "data": {
                        "text/plain": [
                            "'Модуль посвящен первому уроку. В данном модуле рассматривали работу с \\nгит.'"
                        ]
                    },
                    "execution_count": 1,
                    "metadata": {},
                    "output_type": "execute_result"
                }
            ],
            "source": [
                "\"\"\"Модуль посвящен первому уроку.\n",
                "\n",
                "В данном модуле рассматривали работу с \n",
                "гит.\n",
                "\"\"\""
            ]
        },
        {
            "cell_type": "markdown",
            "metadata": {},
            "source": [
                "19.07 Конспект первого урока. Есть платформа Github, \n",
                "в котором у каждого свой репозиторий. В гитхабе передаются \n",
                "задачи специалисту, я буду получать дз. В приложении кошка \n",
                "нужно нажать fetch Origin  - history - название commit-  \n",
                "commit to main. Log.ipynb - написать после каждого урока, \n",
                "что запомнила. Fork - клонировать чужой репозиторий.\n",
                "В VS Code в терминале красным подсвечиваются ошибки, \n",
                "можно сделать ячейки Markdown  и Code. pre-commit run --all-files \n",
                "- проверка данных\n",
                "В будущем работа будет связана с теорией вероятности, \n",
                "статистикой, необходимо будет создавать различные диаграммы"
            ]
        }
    ],
    "metadata": {
        "kernelspec": {
            "display_name": "base",
            "language": "python",
            "name": "python3"
        },
        "language_info": {
            "codemirror_mode": {
                "name": "ipython",
                "version": 3
            },
            "file_extension": ".py",
            "mimetype": "text/x-python",
            "name": "python",
            "nbconvert_exporter": "python",
            "pygments_lexer": "ipython3",
            "version": "3.12.4"
        }
    },
    "nbformat": 4,
    "nbformat_minor": 2
}
